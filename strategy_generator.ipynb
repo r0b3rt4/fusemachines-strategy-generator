from IPython.display import display, HTML
import google.generativeai as genai
from google.colab import userdata

# Function to generate business strategy
def generate_business_strategy():
    # Configure Gemini API key
    genai.configure(api_key=userdata.get('gemini_api_key'))
    
    # Request user input for company name
    company_name = "Fusemachines"

    # Request user input for company industry
    company_industry = "Fusemachines operates in the field of Enterprise Artificial Intelligence (AI). This industry focuses on providing AI-powered solutions and services to businesses to automate tasks, improve decision-making, and gain valuable insights from data. The industry is experiencing significant growth due to the increasing adoption of AI technologies across various sectors."

    # Request user input for business challenge
    challenge = input("Please input the business challenge: ")
    
    # Pre-prompt template for Gemini API
    pre_prompt_template = f"""
    As a senior data-driven business strategist I am tasked with addressing the following business challenge for {company_name} that operates as {company_industry}.
    
    I need to develop a strategy to achieve the desired outcome.
    
    The following strategy should focus on cutting-edge technologies (recommend), AI, machine learning and data science (recommend Google's products) 
    and should always detail how it will ensure growth and efficiency. Here's the challenge:
    {challenge}
    """

    # Generate brainstorm response using Gemini API
    model = genai.GenerativeModel('gemini-pro')
    response = model.generate_content(pre_prompt_template)
    
    return response.text, challenge, company_name

# Function to generate HTML report
def generate_html_report(strategy, challenge, company_name):
    # Split the strategy text into lines
    lines = strategy.split('\n')

    # Initialize variables
    formatted_strategy = ""
    is_list = False
    objective_header_printed = False

    # Iterate through the lines
    for line in lines:
        # Check if the line starts with "**" (double asterisks)
        if line.strip().startswith("**"):
            # Close previous list if it exists
            if formatted_strategy:
                formatted_strategy += "</ul>"
            # Add a new header (remove the "**")
            formatted_strategy += f"<h2>{line.strip('**').strip()}</h2>"
            is_list = False
        # Check if the line starts with "*" (single asterisk)
        elif line.strip().startswith("*"):
            # If it's not already in a list, start a new list
            if not is_list:
                formatted_strategy += "<ul>"
                is_list = True
            # Add a list item with bold words
            formatted_strategy += "<li>"
            formatted_strategy += line.strip('*').replace("**", "<strong>").replace("**", "</strong>")
            formatted_strategy += "</li>"
        # Check if the line starts with "Objective:"
        elif line.strip().startswith("Objective:"):
            # Add the objective header only if it hasn't been printed yet
            if not objective_header_printed:
                # Add a new header for the objective
                formatted_strategy += f"<h2>{line.strip()}</h2>"
                is_list = False
                objective_header_printed = True
        else:
            # Close previous list if it exists
            if is_list:
                formatted_strategy += "</ul>"
                is_list = False
            # Add a paragraph
            formatted_strategy += f"<p>{line.strip()}</p>"

    # Close the last list if it exists
    if is_list:
        formatted_strategy += "</ul>"

    # Generate HTML content
    html_content = f"""
    <!DOCTYPE html>
    <html>
    <head>
        <title>AI Generated Strategy for {company_name}</title>
        <style>
            body {{
                font-family: Arial, sans-serif;
                background-color: #f0f0f0;
                color: #333333;
                padding: 20px;
            }}
            .container {{
                max-width: 800px;
                margin: auto;
                border: 1px solid #ccc;
                border-radius: 5px;
                background-color: #ffffff;
                padding: 20px;
            }}
            h1 {{
                color: #333333;
                font-size: 24px;
                margin-bottom: 20px;
            }}
            h2 {{
                color: #333333;
                font-size: 20px;
                margin-bottom: 10px;
            }}
            p {{
                margin-bottom: 15px;
                font-size: 16px;
            }}
            .strategy {{
                background-color: #f9f9f9;
                padding: 10px;
                border-radius: 5px;
                margin-bottom: 20px;
            }}
            ul {{
                margin-bottom: 15px;
            }}
            li {{
                margin-bottom: 5px;
            }}
        </style>
    </head>
    <body>
        <div class="container">
            <h1>AI Generated Strategy for {company_name}</h1>
            <h2>Challenge:</h2>
            <p>{challenge}</p>
            <h2>Strategy:</h2>
            <div class="strategy">
                {formatted_strategy}
            </div>
        </div>
    </body>
    </html>
    """
    return html_content

# Generate business strategy based on user input
strategy, challenge, company_name = generate_business_strategy()

# Generate HTML report
html_report = generate_html_report(strategy, challenge, company_name)

# Display HTML report
display(HTML(html_report))
